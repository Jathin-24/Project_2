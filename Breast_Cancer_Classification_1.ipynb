{
 "cells": [
  {
   "cell_type": "code",
   "execution_count": null,
   "id": "ad92e283-383f-4df4-89c0-603094d60280",
   "metadata": {},
   "outputs": [],
   "source": [
    "# https://www.kaggle.com/code/prakharbhartiya1/breast-cancer-detection/data"
   ]
  },
  {
   "cell_type": "code",
   "execution_count": 1,
   "id": "ae694175-8385-4ff3-8e20-359f4c0a11e3",
   "metadata": {},
   "outputs": [],
   "source": [
    "# https://www.kaggle.com/datasets/paultimothymooney/breast-histopathology-images"
   ]
  },
  {
   "cell_type": "markdown",
   "id": "62b39921",
   "metadata": {},
   "source": [
    "### Defining Dataset Paths and Train/Validation/Test Splits\n"
   ]
  },
  {
   "cell_type": "code",
   "execution_count": 16,
   "id": "e34cd286-2e98-446b-9c1e-7e9bd646ce19",
   "metadata": {},
   "outputs": [],
   "source": [
    "import os\n",
    "INPUT_DATASET = 'datasets/original'\n",
    "BASE_PATH = 'datasets/idc'\n",
    "TRAIN_PATH = os.path.sep.join([BASE_PATH, 'training'])\n",
    "VAL_PATH = os.path.sep.join([BASE_PATH, 'validation'])\n",
    "TEST_PATH = os.path.sep.join([BASE_PATH, 'testing'])\n",
    "TRAIN_SPLIT = 0.8\n",
    "VAL_SPLIT = 0.1"
   ]
  },
  {
   "cell_type": "markdown",
   "id": "dd83ad25",
   "metadata": {},
   "source": [
    "### Preparing Dataset Folders and Splitting Images by Labels\n"
   ]
  },
  {
   "cell_type": "code",
   "execution_count": null,
   "id": "3e9ab738-56e2-416b-ba04-7b242f9a83aa",
   "metadata": {},
   "outputs": [],
   "source": [
    "from imutils import paths \n",
    "import random, shutil, os\n",
    "\n",
    "originalPaths = list(paths.list_images(INPUT_DATASET))\n",
    "random.seed(7)\n",
    "random.shuffle(originalPaths)\n",
    "\n",
    "index = int(len(originalPaths) * TRAIN_SPLIT)\n",
    "trainPaths = originalPaths[:index] \n",
    "testPaths = originalPaths[index:]\n",
    "\n",
    "index = int(len(trainPaths) * VAL_SPLIT)\n",
    "valPaths = trainPaths[:index]\n",
    "trainPaths = trainPaths[index:]\n",
    "\n",
    "datasets = [\n",
    "    (\"training\", trainPaths, TRAIN_PATH), \n",
    "    (\"validation\", valPaths, VAL_PATH), \n",
    "    (\"testing\", testPaths, TEST_PATH)\n",
    "]\n",
    "\n",
    "for (setType, originalPaths, basePath) in datasets: \n",
    "    print(f'Building {setType} set')\n",
    "    if not os.path.exists(basePath):\n",
    "        print(f'Building directory {basePath}') \n",
    "        os.makedirs(basePath)\n",
    "    \n",
    "    for path in originalPaths:\n",
    "        file = path.split(os.path.sep)[-1] \n",
    "        label = file[-5:-4]\n",
    "        labelPath = os.path.sep.join([basePath, label])\n",
    "        \n",
    "        if not os.path.exists(labelPath):\n",
    "            print(f'Building directory {labelPath}') \n",
    "            os.makedirs(labelPath)\n",
    "        \n",
    "        newPath = os.path.sep.join([labelPath, file]) \n",
    "        shutil.copy2(path, newPath)\n"
   ]
  },
  {
   "cell_type": "markdown",
   "id": "80b09ae2",
   "metadata": {},
   "source": [
    "Building the CNN model"
   ]
  },
  {
   "cell_type": "code",
   "execution_count": 19,
   "id": "811679fe-b779-49e7-98ac-cf08feb25a9a",
   "metadata": {},
   "outputs": [],
   "source": [
    "import tensorflow as tf\n",
    "from tensorflow.keras.preprocessing.image import ImageDataGenerator\n",
    "from keras import backend as K\n",
    "\n",
    "class CancerNet:\n",
    "    def build(width, height, depth, classes):\n",
    "        model = tf.keras.models.Sequential()\n",
    "        shape = (height, width, depth)\n",
    "        channelDim = -1\n",
    "\n",
    "        if K.image_data_format() == \"channels_first\":\n",
    "            shape = (depth, height, width)\n",
    "            channelDim = 1\n",
    "\n",
    "        model.add(tf.keras.layers.Conv2D(filters=32, kernel_size=3, activation='relu', input_shape=shape))\n",
    "        model.add(tf.keras.layers.BatchNormalization(axis=channelDim))\n",
    "        model.add(tf.keras.layers.MaxPool2D(pool_size=2, strides=2))\n",
    "        model.add(tf.keras.layers.Dropout(0.25))\n",
    "\n",
    "        model.add(tf.keras.layers.Conv2D(filters=64, kernel_size=3, activation='relu'))\n",
    "        model.add(tf.keras.layers.BatchNormalization(axis=channelDim))\n",
    "        \n",
    "        model.add(tf.keras.layers.Conv2D(filters=64, kernel_size=3, activation='relu'))\n",
    "        model.add(tf.keras.layers.BatchNormalization(axis=channelDim))\n",
    "        \n",
    "        model.add(tf.keras.layers.MaxPool2D(pool_size=2, strides=2))\n",
    "        model.add(tf.keras.layers.Dropout(0.25))\n",
    "        \n",
    "        model.add(tf.keras.layers.Conv2D(filters=64, kernel_size=3, activation='relu'))\n",
    "        model.add(tf.keras.layers.BatchNormalization(axis=channelDim))\n",
    "        \n",
    "        model.add(tf.keras.layers.Conv2D(filters=64, kernel_size=3, activation='relu'))\n",
    "        model.add(tf.keras.layers.BatchNormalization(axis=channelDim))\n",
    "        \n",
    "        model.add(tf.keras.layers.Conv2D(filters=64, kernel_size=3, activation='relu'))\n",
    "        model.add(tf.keras.layers.BatchNormalization(axis=channelDim))\n",
    "        \n",
    "        model.add(tf.keras.layers.MaxPool2D(pool_size=2, strides=2))\n",
    "        model.add(tf.keras.layers.Dropout(0.25))\n",
    "        \n",
    "        model.add(tf.keras.layers.Flatten())\n",
    "        model.add(tf.keras.layers.Dense(units=256, activation='relu'))\n",
    "        \n",
    "        model.add(tf.keras.layers.BatchNormalization(axis=channelDim))\n",
    "        model.add(tf.keras.layers.Dropout(0.5))\n",
    "        \n",
    "        model.add(tf.keras.layers.Dense(units=classes, activation='softmax'))\n",
    "        \n",
    "        return model\n",
    "        \n",
    "\n"
   ]
  },
  {
   "cell_type": "markdown",
   "id": "0b2ff67e",
   "metadata": {},
   "source": [
    "### Loading and Augmenting Training Images with ImageDataGenerator"
   ]
  },
  {
   "cell_type": "code",
   "execution_count": 20,
   "id": "4ff11421-3508-4c6f-91a9-e862b564ebdb",
   "metadata": {},
   "outputs": [
    {
     "name": "stdout",
     "output_type": "stream",
     "text": [
      "Found 203468 images belonging to 2 classes.\n"
     ]
    }
   ],
   "source": [
    "import matplotlib\n",
    "matplotlib.use('Agg')\n",
    "\n",
    "train_datagen = ImageDataGenerator(rescale = 1./255,\n",
    "                                  shear_range=0.2,\n",
    "                                   zoom_range=0.2,\n",
    "                                  horizontal_flip=True)\n",
    "training_set = train_datagen.flow_from_directory('datasets/idc/training/',\n",
    "                                                target_size=(64,64),\n",
    "                                                batch_size=32,\n",
    "                                                class_mode='binary')\n"
   ]
  },
  {
   "cell_type": "code",
   "execution_count": 21,
   "id": "1e727e4c-45ad-484c-a9b2-36302cbd247b",
   "metadata": {},
   "outputs": [
    {
     "data": {
      "text/plain": [
       "6359"
      ]
     },
     "execution_count": 21,
     "metadata": {},
     "output_type": "execute_result"
    }
   ],
   "source": [
    "len(training_set)"
   ]
  },
  {
   "cell_type": "markdown",
   "id": "7ac87737",
   "metadata": {},
   "source": [
    "### Creating ImageDataGenerators for Training, Validation, and Testing\n"
   ]
  },
  {
   "cell_type": "code",
   "execution_count": null,
   "id": "38114659-d33c-4b87-964e-22141d64a392",
   "metadata": {},
   "outputs": [
    {
     "name": "stdout",
     "output_type": "stream",
     "text": [
      "Found 203468 images belonging to 2 classes.\n",
      "Found 23537 images belonging to 2 classes.\n",
      "Found 58484 images belonging to 2 classes.\n"
     ]
    }
   ],
   "source": [
    "from tensorflow.keras.preprocessing.image import ImageDataGenerator\n",
    "from keras.callbacks import LearningRateScheduler\n",
    "from tensorflow.keras.utils import to_categorical\n",
    "from sklearn.metrics import classification_report\n",
    "from sklearn.metrics import confusion_matrix\n",
    "from imutils import paths\n",
    "import matplotlib.pyplot as plt\n",
    "import numpy as np\n",
    "import os\n",
    "\n",
    "NUM_EPOCHS = 3\n",
    "INIT_LR = 1e-2\n",
    "BS = 32\n",
    "\n",
    "trainPaths = list(paths.list_images(TRAIN_PATH))\n",
    "lenTrain = len(trainPaths)\n",
    "lenVal = len(list(paths.list_images(VAL_PATH)))\n",
    "lenTest = len(list(paths.list_images(TEST_PATH)))\n",
    "\n",
    "trainLabels = [int(p.split(os.path.sep)[-2]) for p in trainPaths]\n",
    "trainLabels = to_categorical(trainLabels)\n",
    "\n",
    "classTotals = trainLabels.sum(axis=0)\n",
    "classWeight = classTotals.max() / classTotals\n",
    "\n",
    "trainAug = ImageDataGenerator(\n",
    "    rescale=1/255.0,\n",
    "    rotation_range=20,\n",
    "    zoom_range=0.05,\n",
    "    width_shift_range=0.1,\n",
    "    height_shift_range=0.1,\n",
    "    shear_range=0.05,\n",
    "    horizontal_flip=True,\n",
    "    vertical_flip=True,\n",
    "    fill_mode=\"nearest\"\n",
    ")\n",
    "\n",
    "valAug = ImageDataGenerator(rescale=1/255.0)\n",
    "\n",
    "trainGen = trainAug.flow_from_directory(\n",
    "    TRAIN_PATH,\n",
    "    class_mode=\"categorical\",\n",
    "    target_size=(48, 48),\n",
    "    color_mode=\"rgb\",\n",
    "    shuffle=True,\n",
    "    batch_size=BS\n",
    ")\n",
    "\n",
    "valGen = valAug.flow_from_directory(\n",
    "    VAL_PATH,\n",
    "    class_mode=\"categorical\",\n",
    "    target_size=(48, 48),\n",
    "    color_mode=\"rgb\",\n",
    "    shuffle=False,\n",
    "    batch_size=BS\n",
    ")\n",
    "\n",
    "testGen = valAug.flow_from_directory(\n",
    "    TEST_PATH,\n",
    "    class_mode=\"categorical\",\n",
    "    target_size=(48, 48),\n",
    "    color_mode=\"rgb\",\n",
    "    shuffle=False,\n",
    "    batch_size=BS\n",
    ")\n"
   ]
  },
  {
   "cell_type": "markdown",
   "id": "62badde7",
   "metadata": {},
   "source": [
    "Safe Generator for checking for bad images in the dataset"
   ]
  },
  {
   "cell_type": "code",
   "execution_count": 23,
   "id": "97c30083",
   "metadata": {},
   "outputs": [],
   "source": [
    "# Define a safe generator wrapper to skip corrupted batches\n",
    "def safe_generator(generator):\n",
    "    \"\"\"\n",
    "    Yields batches, skipping any batch that triggers an error during data loading.\n",
    "    \"\"\"\n",
    "    while True:\n",
    "        try:\n",
    "            yield next(generator)\n",
    "        except Exception as e:\n",
    "            print(\"[Warning] Skipping a corrupted batch:\", e)\n"
   ]
  },
  {
   "cell_type": "markdown",
   "id": "d90abcc0",
   "metadata": {},
   "source": [
    "Making sure that no bad images get into the model"
   ]
  },
  {
   "cell_type": "code",
   "execution_count": 31,
   "id": "4c900a45",
   "metadata": {},
   "outputs": [],
   "source": [
    "# Wrap the generators so they are protected from corrupted images\n",
    "safe_trainGen = safe_generator(trainGen)\n",
    "safe_testGen = safe_generator(testGen)\n",
    "safe_valGen = safe_generator(valGen)\n"
   ]
  },
  {
   "cell_type": "markdown",
   "id": "27d5d2e0",
   "metadata": {},
   "source": [
    "### Creating CancerNet Architecture and Displaying Model Summary\n"
   ]
  },
  {
   "cell_type": "code",
   "execution_count": 25,
   "id": "e7f7bdf0-3962-4d30-9d98-2f0de69b8071",
   "metadata": {},
   "outputs": [
    {
     "data": {
      "text/html": [
       "<pre style=\"white-space:pre;overflow-x:auto;line-height:normal;font-family:Menlo,'DejaVu Sans Mono',consolas,'Courier New',monospace\"><span style=\"font-weight: bold\">Model: \"sequential_1\"</span>\n",
       "</pre>\n"
      ],
      "text/plain": [
       "\u001b[1mModel: \"sequential_1\"\u001b[0m\n"
      ]
     },
     "metadata": {},
     "output_type": "display_data"
    },
    {
     "data": {
      "text/html": [
       "<pre style=\"white-space:pre;overflow-x:auto;line-height:normal;font-family:Menlo,'DejaVu Sans Mono',consolas,'Courier New',monospace\">┏━━━━━━━━━━━━━━━━━━━━━━━━━━━━━━━━━┳━━━━━━━━━━━━━━━━━━━━━━━━┳━━━━━━━━━━━━━━━┓\n",
       "┃<span style=\"font-weight: bold\"> Layer (type)                    </span>┃<span style=\"font-weight: bold\"> Output Shape           </span>┃<span style=\"font-weight: bold\">       Param # </span>┃\n",
       "┡━━━━━━━━━━━━━━━━━━━━━━━━━━━━━━━━━╇━━━━━━━━━━━━━━━━━━━━━━━━╇━━━━━━━━━━━━━━━┩\n",
       "│ conv2d_6 (<span style=\"color: #0087ff; text-decoration-color: #0087ff\">Conv2D</span>)               │ (<span style=\"color: #00d7ff; text-decoration-color: #00d7ff\">None</span>, <span style=\"color: #00af00; text-decoration-color: #00af00\">46</span>, <span style=\"color: #00af00; text-decoration-color: #00af00\">46</span>, <span style=\"color: #00af00; text-decoration-color: #00af00\">32</span>)     │           <span style=\"color: #00af00; text-decoration-color: #00af00\">896</span> │\n",
       "├─────────────────────────────────┼────────────────────────┼───────────────┤\n",
       "│ batch_normalization_7           │ (<span style=\"color: #00d7ff; text-decoration-color: #00d7ff\">None</span>, <span style=\"color: #00af00; text-decoration-color: #00af00\">46</span>, <span style=\"color: #00af00; text-decoration-color: #00af00\">46</span>, <span style=\"color: #00af00; text-decoration-color: #00af00\">32</span>)     │           <span style=\"color: #00af00; text-decoration-color: #00af00\">128</span> │\n",
       "│ (<span style=\"color: #0087ff; text-decoration-color: #0087ff\">BatchNormalization</span>)            │                        │               │\n",
       "├─────────────────────────────────┼────────────────────────┼───────────────┤\n",
       "│ max_pooling2d_3 (<span style=\"color: #0087ff; text-decoration-color: #0087ff\">MaxPooling2D</span>)  │ (<span style=\"color: #00d7ff; text-decoration-color: #00d7ff\">None</span>, <span style=\"color: #00af00; text-decoration-color: #00af00\">23</span>, <span style=\"color: #00af00; text-decoration-color: #00af00\">23</span>, <span style=\"color: #00af00; text-decoration-color: #00af00\">32</span>)     │             <span style=\"color: #00af00; text-decoration-color: #00af00\">0</span> │\n",
       "├─────────────────────────────────┼────────────────────────┼───────────────┤\n",
       "│ dropout_4 (<span style=\"color: #0087ff; text-decoration-color: #0087ff\">Dropout</span>)             │ (<span style=\"color: #00d7ff; text-decoration-color: #00d7ff\">None</span>, <span style=\"color: #00af00; text-decoration-color: #00af00\">23</span>, <span style=\"color: #00af00; text-decoration-color: #00af00\">23</span>, <span style=\"color: #00af00; text-decoration-color: #00af00\">32</span>)     │             <span style=\"color: #00af00; text-decoration-color: #00af00\">0</span> │\n",
       "├─────────────────────────────────┼────────────────────────┼───────────────┤\n",
       "│ conv2d_7 (<span style=\"color: #0087ff; text-decoration-color: #0087ff\">Conv2D</span>)               │ (<span style=\"color: #00d7ff; text-decoration-color: #00d7ff\">None</span>, <span style=\"color: #00af00; text-decoration-color: #00af00\">21</span>, <span style=\"color: #00af00; text-decoration-color: #00af00\">21</span>, <span style=\"color: #00af00; text-decoration-color: #00af00\">64</span>)     │        <span style=\"color: #00af00; text-decoration-color: #00af00\">18,496</span> │\n",
       "├─────────────────────────────────┼────────────────────────┼───────────────┤\n",
       "│ batch_normalization_8           │ (<span style=\"color: #00d7ff; text-decoration-color: #00d7ff\">None</span>, <span style=\"color: #00af00; text-decoration-color: #00af00\">21</span>, <span style=\"color: #00af00; text-decoration-color: #00af00\">21</span>, <span style=\"color: #00af00; text-decoration-color: #00af00\">64</span>)     │           <span style=\"color: #00af00; text-decoration-color: #00af00\">256</span> │\n",
       "│ (<span style=\"color: #0087ff; text-decoration-color: #0087ff\">BatchNormalization</span>)            │                        │               │\n",
       "├─────────────────────────────────┼────────────────────────┼───────────────┤\n",
       "│ conv2d_8 (<span style=\"color: #0087ff; text-decoration-color: #0087ff\">Conv2D</span>)               │ (<span style=\"color: #00d7ff; text-decoration-color: #00d7ff\">None</span>, <span style=\"color: #00af00; text-decoration-color: #00af00\">19</span>, <span style=\"color: #00af00; text-decoration-color: #00af00\">19</span>, <span style=\"color: #00af00; text-decoration-color: #00af00\">64</span>)     │        <span style=\"color: #00af00; text-decoration-color: #00af00\">36,928</span> │\n",
       "├─────────────────────────────────┼────────────────────────┼───────────────┤\n",
       "│ batch_normalization_9           │ (<span style=\"color: #00d7ff; text-decoration-color: #00d7ff\">None</span>, <span style=\"color: #00af00; text-decoration-color: #00af00\">19</span>, <span style=\"color: #00af00; text-decoration-color: #00af00\">19</span>, <span style=\"color: #00af00; text-decoration-color: #00af00\">64</span>)     │           <span style=\"color: #00af00; text-decoration-color: #00af00\">256</span> │\n",
       "│ (<span style=\"color: #0087ff; text-decoration-color: #0087ff\">BatchNormalization</span>)            │                        │               │\n",
       "├─────────────────────────────────┼────────────────────────┼───────────────┤\n",
       "│ max_pooling2d_4 (<span style=\"color: #0087ff; text-decoration-color: #0087ff\">MaxPooling2D</span>)  │ (<span style=\"color: #00d7ff; text-decoration-color: #00d7ff\">None</span>, <span style=\"color: #00af00; text-decoration-color: #00af00\">9</span>, <span style=\"color: #00af00; text-decoration-color: #00af00\">9</span>, <span style=\"color: #00af00; text-decoration-color: #00af00\">64</span>)       │             <span style=\"color: #00af00; text-decoration-color: #00af00\">0</span> │\n",
       "├─────────────────────────────────┼────────────────────────┼───────────────┤\n",
       "│ dropout_5 (<span style=\"color: #0087ff; text-decoration-color: #0087ff\">Dropout</span>)             │ (<span style=\"color: #00d7ff; text-decoration-color: #00d7ff\">None</span>, <span style=\"color: #00af00; text-decoration-color: #00af00\">9</span>, <span style=\"color: #00af00; text-decoration-color: #00af00\">9</span>, <span style=\"color: #00af00; text-decoration-color: #00af00\">64</span>)       │             <span style=\"color: #00af00; text-decoration-color: #00af00\">0</span> │\n",
       "├─────────────────────────────────┼────────────────────────┼───────────────┤\n",
       "│ conv2d_9 (<span style=\"color: #0087ff; text-decoration-color: #0087ff\">Conv2D</span>)               │ (<span style=\"color: #00d7ff; text-decoration-color: #00d7ff\">None</span>, <span style=\"color: #00af00; text-decoration-color: #00af00\">7</span>, <span style=\"color: #00af00; text-decoration-color: #00af00\">7</span>, <span style=\"color: #00af00; text-decoration-color: #00af00\">64</span>)       │        <span style=\"color: #00af00; text-decoration-color: #00af00\">36,928</span> │\n",
       "├─────────────────────────────────┼────────────────────────┼───────────────┤\n",
       "│ batch_normalization_10          │ (<span style=\"color: #00d7ff; text-decoration-color: #00d7ff\">None</span>, <span style=\"color: #00af00; text-decoration-color: #00af00\">7</span>, <span style=\"color: #00af00; text-decoration-color: #00af00\">7</span>, <span style=\"color: #00af00; text-decoration-color: #00af00\">64</span>)       │           <span style=\"color: #00af00; text-decoration-color: #00af00\">256</span> │\n",
       "│ (<span style=\"color: #0087ff; text-decoration-color: #0087ff\">BatchNormalization</span>)            │                        │               │\n",
       "├─────────────────────────────────┼────────────────────────┼───────────────┤\n",
       "│ conv2d_10 (<span style=\"color: #0087ff; text-decoration-color: #0087ff\">Conv2D</span>)              │ (<span style=\"color: #00d7ff; text-decoration-color: #00d7ff\">None</span>, <span style=\"color: #00af00; text-decoration-color: #00af00\">5</span>, <span style=\"color: #00af00; text-decoration-color: #00af00\">5</span>, <span style=\"color: #00af00; text-decoration-color: #00af00\">64</span>)       │        <span style=\"color: #00af00; text-decoration-color: #00af00\">36,928</span> │\n",
       "├─────────────────────────────────┼────────────────────────┼───────────────┤\n",
       "│ batch_normalization_11          │ (<span style=\"color: #00d7ff; text-decoration-color: #00d7ff\">None</span>, <span style=\"color: #00af00; text-decoration-color: #00af00\">5</span>, <span style=\"color: #00af00; text-decoration-color: #00af00\">5</span>, <span style=\"color: #00af00; text-decoration-color: #00af00\">64</span>)       │           <span style=\"color: #00af00; text-decoration-color: #00af00\">256</span> │\n",
       "│ (<span style=\"color: #0087ff; text-decoration-color: #0087ff\">BatchNormalization</span>)            │                        │               │\n",
       "├─────────────────────────────────┼────────────────────────┼───────────────┤\n",
       "│ conv2d_11 (<span style=\"color: #0087ff; text-decoration-color: #0087ff\">Conv2D</span>)              │ (<span style=\"color: #00d7ff; text-decoration-color: #00d7ff\">None</span>, <span style=\"color: #00af00; text-decoration-color: #00af00\">3</span>, <span style=\"color: #00af00; text-decoration-color: #00af00\">3</span>, <span style=\"color: #00af00; text-decoration-color: #00af00\">64</span>)       │        <span style=\"color: #00af00; text-decoration-color: #00af00\">36,928</span> │\n",
       "├─────────────────────────────────┼────────────────────────┼───────────────┤\n",
       "│ batch_normalization_12          │ (<span style=\"color: #00d7ff; text-decoration-color: #00d7ff\">None</span>, <span style=\"color: #00af00; text-decoration-color: #00af00\">3</span>, <span style=\"color: #00af00; text-decoration-color: #00af00\">3</span>, <span style=\"color: #00af00; text-decoration-color: #00af00\">64</span>)       │           <span style=\"color: #00af00; text-decoration-color: #00af00\">256</span> │\n",
       "│ (<span style=\"color: #0087ff; text-decoration-color: #0087ff\">BatchNormalization</span>)            │                        │               │\n",
       "├─────────────────────────────────┼────────────────────────┼───────────────┤\n",
       "│ max_pooling2d_5 (<span style=\"color: #0087ff; text-decoration-color: #0087ff\">MaxPooling2D</span>)  │ (<span style=\"color: #00d7ff; text-decoration-color: #00d7ff\">None</span>, <span style=\"color: #00af00; text-decoration-color: #00af00\">1</span>, <span style=\"color: #00af00; text-decoration-color: #00af00\">1</span>, <span style=\"color: #00af00; text-decoration-color: #00af00\">64</span>)       │             <span style=\"color: #00af00; text-decoration-color: #00af00\">0</span> │\n",
       "├─────────────────────────────────┼────────────────────────┼───────────────┤\n",
       "│ dropout_6 (<span style=\"color: #0087ff; text-decoration-color: #0087ff\">Dropout</span>)             │ (<span style=\"color: #00d7ff; text-decoration-color: #00d7ff\">None</span>, <span style=\"color: #00af00; text-decoration-color: #00af00\">1</span>, <span style=\"color: #00af00; text-decoration-color: #00af00\">1</span>, <span style=\"color: #00af00; text-decoration-color: #00af00\">64</span>)       │             <span style=\"color: #00af00; text-decoration-color: #00af00\">0</span> │\n",
       "├─────────────────────────────────┼────────────────────────┼───────────────┤\n",
       "│ flatten_1 (<span style=\"color: #0087ff; text-decoration-color: #0087ff\">Flatten</span>)             │ (<span style=\"color: #00d7ff; text-decoration-color: #00d7ff\">None</span>, <span style=\"color: #00af00; text-decoration-color: #00af00\">64</span>)             │             <span style=\"color: #00af00; text-decoration-color: #00af00\">0</span> │\n",
       "├─────────────────────────────────┼────────────────────────┼───────────────┤\n",
       "│ dense_2 (<span style=\"color: #0087ff; text-decoration-color: #0087ff\">Dense</span>)                 │ (<span style=\"color: #00d7ff; text-decoration-color: #00d7ff\">None</span>, <span style=\"color: #00af00; text-decoration-color: #00af00\">256</span>)            │        <span style=\"color: #00af00; text-decoration-color: #00af00\">16,640</span> │\n",
       "├─────────────────────────────────┼────────────────────────┼───────────────┤\n",
       "│ batch_normalization_13          │ (<span style=\"color: #00d7ff; text-decoration-color: #00d7ff\">None</span>, <span style=\"color: #00af00; text-decoration-color: #00af00\">256</span>)            │         <span style=\"color: #00af00; text-decoration-color: #00af00\">1,024</span> │\n",
       "│ (<span style=\"color: #0087ff; text-decoration-color: #0087ff\">BatchNormalization</span>)            │                        │               │\n",
       "├─────────────────────────────────┼────────────────────────┼───────────────┤\n",
       "│ dropout_7 (<span style=\"color: #0087ff; text-decoration-color: #0087ff\">Dropout</span>)             │ (<span style=\"color: #00d7ff; text-decoration-color: #00d7ff\">None</span>, <span style=\"color: #00af00; text-decoration-color: #00af00\">256</span>)            │             <span style=\"color: #00af00; text-decoration-color: #00af00\">0</span> │\n",
       "├─────────────────────────────────┼────────────────────────┼───────────────┤\n",
       "│ dense_3 (<span style=\"color: #0087ff; text-decoration-color: #0087ff\">Dense</span>)                 │ (<span style=\"color: #00d7ff; text-decoration-color: #00d7ff\">None</span>, <span style=\"color: #00af00; text-decoration-color: #00af00\">2</span>)              │           <span style=\"color: #00af00; text-decoration-color: #00af00\">514</span> │\n",
       "└─────────────────────────────────┴────────────────────────┴───────────────┘\n",
       "</pre>\n"
      ],
      "text/plain": [
       "┏━━━━━━━━━━━━━━━━━━━━━━━━━━━━━━━━━┳━━━━━━━━━━━━━━━━━━━━━━━━┳━━━━━━━━━━━━━━━┓\n",
       "┃\u001b[1m \u001b[0m\u001b[1mLayer (type)                   \u001b[0m\u001b[1m \u001b[0m┃\u001b[1m \u001b[0m\u001b[1mOutput Shape          \u001b[0m\u001b[1m \u001b[0m┃\u001b[1m \u001b[0m\u001b[1m      Param #\u001b[0m\u001b[1m \u001b[0m┃\n",
       "┡━━━━━━━━━━━━━━━━━━━━━━━━━━━━━━━━━╇━━━━━━━━━━━━━━━━━━━━━━━━╇━━━━━━━━━━━━━━━┩\n",
       "│ conv2d_6 (\u001b[38;5;33mConv2D\u001b[0m)               │ (\u001b[38;5;45mNone\u001b[0m, \u001b[38;5;34m46\u001b[0m, \u001b[38;5;34m46\u001b[0m, \u001b[38;5;34m32\u001b[0m)     │           \u001b[38;5;34m896\u001b[0m │\n",
       "├─────────────────────────────────┼────────────────────────┼───────────────┤\n",
       "│ batch_normalization_7           │ (\u001b[38;5;45mNone\u001b[0m, \u001b[38;5;34m46\u001b[0m, \u001b[38;5;34m46\u001b[0m, \u001b[38;5;34m32\u001b[0m)     │           \u001b[38;5;34m128\u001b[0m │\n",
       "│ (\u001b[38;5;33mBatchNormalization\u001b[0m)            │                        │               │\n",
       "├─────────────────────────────────┼────────────────────────┼───────────────┤\n",
       "│ max_pooling2d_3 (\u001b[38;5;33mMaxPooling2D\u001b[0m)  │ (\u001b[38;5;45mNone\u001b[0m, \u001b[38;5;34m23\u001b[0m, \u001b[38;5;34m23\u001b[0m, \u001b[38;5;34m32\u001b[0m)     │             \u001b[38;5;34m0\u001b[0m │\n",
       "├─────────────────────────────────┼────────────────────────┼───────────────┤\n",
       "│ dropout_4 (\u001b[38;5;33mDropout\u001b[0m)             │ (\u001b[38;5;45mNone\u001b[0m, \u001b[38;5;34m23\u001b[0m, \u001b[38;5;34m23\u001b[0m, \u001b[38;5;34m32\u001b[0m)     │             \u001b[38;5;34m0\u001b[0m │\n",
       "├─────────────────────────────────┼────────────────────────┼───────────────┤\n",
       "│ conv2d_7 (\u001b[38;5;33mConv2D\u001b[0m)               │ (\u001b[38;5;45mNone\u001b[0m, \u001b[38;5;34m21\u001b[0m, \u001b[38;5;34m21\u001b[0m, \u001b[38;5;34m64\u001b[0m)     │        \u001b[38;5;34m18,496\u001b[0m │\n",
       "├─────────────────────────────────┼────────────────────────┼───────────────┤\n",
       "│ batch_normalization_8           │ (\u001b[38;5;45mNone\u001b[0m, \u001b[38;5;34m21\u001b[0m, \u001b[38;5;34m21\u001b[0m, \u001b[38;5;34m64\u001b[0m)     │           \u001b[38;5;34m256\u001b[0m │\n",
       "│ (\u001b[38;5;33mBatchNormalization\u001b[0m)            │                        │               │\n",
       "├─────────────────────────────────┼────────────────────────┼───────────────┤\n",
       "│ conv2d_8 (\u001b[38;5;33mConv2D\u001b[0m)               │ (\u001b[38;5;45mNone\u001b[0m, \u001b[38;5;34m19\u001b[0m, \u001b[38;5;34m19\u001b[0m, \u001b[38;5;34m64\u001b[0m)     │        \u001b[38;5;34m36,928\u001b[0m │\n",
       "├─────────────────────────────────┼────────────────────────┼───────────────┤\n",
       "│ batch_normalization_9           │ (\u001b[38;5;45mNone\u001b[0m, \u001b[38;5;34m19\u001b[0m, \u001b[38;5;34m19\u001b[0m, \u001b[38;5;34m64\u001b[0m)     │           \u001b[38;5;34m256\u001b[0m │\n",
       "│ (\u001b[38;5;33mBatchNormalization\u001b[0m)            │                        │               │\n",
       "├─────────────────────────────────┼────────────────────────┼───────────────┤\n",
       "│ max_pooling2d_4 (\u001b[38;5;33mMaxPooling2D\u001b[0m)  │ (\u001b[38;5;45mNone\u001b[0m, \u001b[38;5;34m9\u001b[0m, \u001b[38;5;34m9\u001b[0m, \u001b[38;5;34m64\u001b[0m)       │             \u001b[38;5;34m0\u001b[0m │\n",
       "├─────────────────────────────────┼────────────────────────┼───────────────┤\n",
       "│ dropout_5 (\u001b[38;5;33mDropout\u001b[0m)             │ (\u001b[38;5;45mNone\u001b[0m, \u001b[38;5;34m9\u001b[0m, \u001b[38;5;34m9\u001b[0m, \u001b[38;5;34m64\u001b[0m)       │             \u001b[38;5;34m0\u001b[0m │\n",
       "├─────────────────────────────────┼────────────────────────┼───────────────┤\n",
       "│ conv2d_9 (\u001b[38;5;33mConv2D\u001b[0m)               │ (\u001b[38;5;45mNone\u001b[0m, \u001b[38;5;34m7\u001b[0m, \u001b[38;5;34m7\u001b[0m, \u001b[38;5;34m64\u001b[0m)       │        \u001b[38;5;34m36,928\u001b[0m │\n",
       "├─────────────────────────────────┼────────────────────────┼───────────────┤\n",
       "│ batch_normalization_10          │ (\u001b[38;5;45mNone\u001b[0m, \u001b[38;5;34m7\u001b[0m, \u001b[38;5;34m7\u001b[0m, \u001b[38;5;34m64\u001b[0m)       │           \u001b[38;5;34m256\u001b[0m │\n",
       "│ (\u001b[38;5;33mBatchNormalization\u001b[0m)            │                        │               │\n",
       "├─────────────────────────────────┼────────────────────────┼───────────────┤\n",
       "│ conv2d_10 (\u001b[38;5;33mConv2D\u001b[0m)              │ (\u001b[38;5;45mNone\u001b[0m, \u001b[38;5;34m5\u001b[0m, \u001b[38;5;34m5\u001b[0m, \u001b[38;5;34m64\u001b[0m)       │        \u001b[38;5;34m36,928\u001b[0m │\n",
       "├─────────────────────────────────┼────────────────────────┼───────────────┤\n",
       "│ batch_normalization_11          │ (\u001b[38;5;45mNone\u001b[0m, \u001b[38;5;34m5\u001b[0m, \u001b[38;5;34m5\u001b[0m, \u001b[38;5;34m64\u001b[0m)       │           \u001b[38;5;34m256\u001b[0m │\n",
       "│ (\u001b[38;5;33mBatchNormalization\u001b[0m)            │                        │               │\n",
       "├─────────────────────────────────┼────────────────────────┼───────────────┤\n",
       "│ conv2d_11 (\u001b[38;5;33mConv2D\u001b[0m)              │ (\u001b[38;5;45mNone\u001b[0m, \u001b[38;5;34m3\u001b[0m, \u001b[38;5;34m3\u001b[0m, \u001b[38;5;34m64\u001b[0m)       │        \u001b[38;5;34m36,928\u001b[0m │\n",
       "├─────────────────────────────────┼────────────────────────┼───────────────┤\n",
       "│ batch_normalization_12          │ (\u001b[38;5;45mNone\u001b[0m, \u001b[38;5;34m3\u001b[0m, \u001b[38;5;34m3\u001b[0m, \u001b[38;5;34m64\u001b[0m)       │           \u001b[38;5;34m256\u001b[0m │\n",
       "│ (\u001b[38;5;33mBatchNormalization\u001b[0m)            │                        │               │\n",
       "├─────────────────────────────────┼────────────────────────┼───────────────┤\n",
       "│ max_pooling2d_5 (\u001b[38;5;33mMaxPooling2D\u001b[0m)  │ (\u001b[38;5;45mNone\u001b[0m, \u001b[38;5;34m1\u001b[0m, \u001b[38;5;34m1\u001b[0m, \u001b[38;5;34m64\u001b[0m)       │             \u001b[38;5;34m0\u001b[0m │\n",
       "├─────────────────────────────────┼────────────────────────┼───────────────┤\n",
       "│ dropout_6 (\u001b[38;5;33mDropout\u001b[0m)             │ (\u001b[38;5;45mNone\u001b[0m, \u001b[38;5;34m1\u001b[0m, \u001b[38;5;34m1\u001b[0m, \u001b[38;5;34m64\u001b[0m)       │             \u001b[38;5;34m0\u001b[0m │\n",
       "├─────────────────────────────────┼────────────────────────┼───────────────┤\n",
       "│ flatten_1 (\u001b[38;5;33mFlatten\u001b[0m)             │ (\u001b[38;5;45mNone\u001b[0m, \u001b[38;5;34m64\u001b[0m)             │             \u001b[38;5;34m0\u001b[0m │\n",
       "├─────────────────────────────────┼────────────────────────┼───────────────┤\n",
       "│ dense_2 (\u001b[38;5;33mDense\u001b[0m)                 │ (\u001b[38;5;45mNone\u001b[0m, \u001b[38;5;34m256\u001b[0m)            │        \u001b[38;5;34m16,640\u001b[0m │\n",
       "├─────────────────────────────────┼────────────────────────┼───────────────┤\n",
       "│ batch_normalization_13          │ (\u001b[38;5;45mNone\u001b[0m, \u001b[38;5;34m256\u001b[0m)            │         \u001b[38;5;34m1,024\u001b[0m │\n",
       "│ (\u001b[38;5;33mBatchNormalization\u001b[0m)            │                        │               │\n",
       "├─────────────────────────────────┼────────────────────────┼───────────────┤\n",
       "│ dropout_7 (\u001b[38;5;33mDropout\u001b[0m)             │ (\u001b[38;5;45mNone\u001b[0m, \u001b[38;5;34m256\u001b[0m)            │             \u001b[38;5;34m0\u001b[0m │\n",
       "├─────────────────────────────────┼────────────────────────┼───────────────┤\n",
       "│ dense_3 (\u001b[38;5;33mDense\u001b[0m)                 │ (\u001b[38;5;45mNone\u001b[0m, \u001b[38;5;34m2\u001b[0m)              │           \u001b[38;5;34m514\u001b[0m │\n",
       "└─────────────────────────────────┴────────────────────────┴───────────────┘\n"
      ]
     },
     "metadata": {},
     "output_type": "display_data"
    },
    {
     "data": {
      "text/html": [
       "<pre style=\"white-space:pre;overflow-x:auto;line-height:normal;font-family:Menlo,'DejaVu Sans Mono',consolas,'Courier New',monospace\"><span style=\"font-weight: bold\"> Total params: </span><span style=\"color: #00af00; text-decoration-color: #00af00\">186,690</span> (729.26 KB)\n",
       "</pre>\n"
      ],
      "text/plain": [
       "\u001b[1m Total params: \u001b[0m\u001b[38;5;34m186,690\u001b[0m (729.26 KB)\n"
      ]
     },
     "metadata": {},
     "output_type": "display_data"
    },
    {
     "data": {
      "text/html": [
       "<pre style=\"white-space:pre;overflow-x:auto;line-height:normal;font-family:Menlo,'DejaVu Sans Mono',consolas,'Courier New',monospace\"><span style=\"font-weight: bold\"> Trainable params: </span><span style=\"color: #00af00; text-decoration-color: #00af00\">185,474</span> (724.51 KB)\n",
       "</pre>\n"
      ],
      "text/plain": [
       "\u001b[1m Trainable params: \u001b[0m\u001b[38;5;34m185,474\u001b[0m (724.51 KB)\n"
      ]
     },
     "metadata": {},
     "output_type": "display_data"
    },
    {
     "data": {
      "text/html": [
       "<pre style=\"white-space:pre;overflow-x:auto;line-height:normal;font-family:Menlo,'DejaVu Sans Mono',consolas,'Courier New',monospace\"><span style=\"font-weight: bold\"> Non-trainable params: </span><span style=\"color: #00af00; text-decoration-color: #00af00\">1,216</span> (4.75 KB)\n",
       "</pre>\n"
      ],
      "text/plain": [
       "\u001b[1m Non-trainable params: \u001b[0m\u001b[38;5;34m1,216\u001b[0m (4.75 KB)\n"
      ]
     },
     "metadata": {},
     "output_type": "display_data"
    }
   ],
   "source": [
    "model = CancerNet.build(width = 48, height = 48, depth = 3, classes =2)\n",
    "model.compile(loss = 'categorical_crossentropy', optimizer = 'adam', metrics = ['accuracy'])\n",
    "\n",
    "model.summary()"
   ]
  },
  {
   "cell_type": "markdown",
   "id": "75ed1f4e",
   "metadata": {},
   "source": [
    "Training the model"
   ]
  },
  {
   "cell_type": "code",
   "execution_count": null,
   "id": "081d8452-589f-49fb-ba42-14adad1cc3ba",
   "metadata": {},
   "outputs": [
    {
     "name": "stdout",
     "output_type": "stream",
     "text": [
      "Epoch 1/3\n",
      "\u001b[1m 435/6358\u001b[0m \u001b[32m━\u001b[0m\u001b[37m━━━━━━━━━━━━━━━━━━━\u001b[0m \u001b[1m1:10:34\u001b[0m 715ms/step - accuracy: 0.7279 - loss: 0.7144[Warning] Skipping a corrupted batch: cannot identify image file <_io.BytesIO object at 0x000002CFC8B6D8A0>\n",
      "\u001b[1m 551/6358\u001b[0m \u001b[32m━\u001b[0m\u001b[37m━━━━━━━━━━━━━━━━━━━\u001b[0m \u001b[1m1:09:37\u001b[0m 719ms/step - accuracy: 0.7380 - loss: 0.6835[Warning] Skipping a corrupted batch: cannot identify image file <_io.BytesIO object at 0x000002CFC8BD3330>\n",
      "\u001b[1m 619/6358\u001b[0m \u001b[32m━\u001b[0m\u001b[37m━━━━━━━━━━━━━━━━━━━\u001b[0m \u001b[1m1:08:50\u001b[0m 720ms/step - accuracy: 0.7429 - loss: 0.6685[Warning] Skipping a corrupted batch: cannot identify image file <_io.BytesIO object at 0x000002CFC8BFD440>\n",
      "\u001b[1m 641/6358\u001b[0m \u001b[32m━━\u001b[0m\u001b[37m━━━━━━━━━━━━━━━━━━\u001b[0m \u001b[1m1:08:32\u001b[0m 719ms/step - accuracy: 0.7443 - loss: 0.6640[Warning] Skipping a corrupted batch: cannot identify image file <_io.BytesIO object at 0x000002CFC8BFEB10>\n",
      "\u001b[1m 649/6358\u001b[0m \u001b[32m━━\u001b[0m\u001b[37m━━━━━━━━━━━━━━━━━━\u001b[0m \u001b[1m1:08:26\u001b[0m 719ms/step - accuracy: 0.7448 - loss: 0.6625[Warning] Skipping a corrupted batch: cannot identify image file <_io.BytesIO object at 0x000002CFC8BFFC90>\n",
      "\u001b[1m 771/6358\u001b[0m \u001b[32m━━\u001b[0m\u001b[37m━━━━━━━━━━━━━━━━━━\u001b[0m \u001b[1m1:09:00\u001b[0m 741ms/step - accuracy: 0.7516 - loss: 0.6407[Warning] Skipping a corrupted batch: cannot identify image file <_io.BytesIO object at 0x000002CFC8BFFBA0>\n",
      "\u001b[1m1184/6358\u001b[0m \u001b[32m━━━\u001b[0m\u001b[37m━━━━━━━━━━━━━━━━━\u001b[0m \u001b[1m1:06:54\u001b[0m 776ms/step - accuracy: 0.7670 - loss: 0.5912[Warning] Skipping a corrupted batch: cannot identify image file <_io.BytesIO object at 0x000002CFC8BFEAC0>\n",
      "\u001b[1m1324/6358\u001b[0m \u001b[32m━━━━\u001b[0m\u001b[37m━━━━━━━━━━━━━━━━\u001b[0m \u001b[1m1:07:19\u001b[0m 803ms/step - accuracy: 0.7707 - loss: 0.5792[Warning] Skipping a corrupted batch: cannot identify image file <_io.BytesIO object at 0x000002CFC8BFD6C0>\n",
      "\u001b[1m1374/6358\u001b[0m \u001b[32m━━━━\u001b[0m\u001b[37m━━━━━━━━━━━━━━━━\u001b[0m \u001b[1m1:05:41\u001b[0m 791ms/step - accuracy: 0.7719 - loss: 0.5754[Warning] Skipping a corrupted batch: cannot identify image file <_io.BytesIO object at 0x000002CFC8BFEB10>\n",
      "\u001b[1m1398/6358\u001b[0m \u001b[32m━━━━\u001b[0m\u001b[37m━━━━━━━━━━━━━━━━\u001b[0m \u001b[1m1:05:35\u001b[0m 793ms/step - accuracy: 0.7724 - loss: 0.5736[Warning] Skipping a corrupted batch: cannot identify image file <_io.BytesIO object at 0x000002CFC8BFFC40>\n",
      "\u001b[1m1504/6358\u001b[0m \u001b[32m━━━━\u001b[0m\u001b[37m━━━━━━━━━━━━━━━━\u001b[0m \u001b[1m1:03:27\u001b[0m 784ms/step - accuracy: 0.7748 - loss: 0.5661[Warning] Skipping a corrupted batch: cannot identify image file <_io.BytesIO object at 0x000002CFC8BFFCE0>\n",
      "\u001b[1m1534/6358\u001b[0m \u001b[32m━━━━\u001b[0m\u001b[37m━━━━━━━━━━━━━━━━\u001b[0m \u001b[1m1:02:31\u001b[0m 778ms/step - accuracy: 0.7754 - loss: 0.5641[Warning] Skipping a corrupted batch: cannot identify image file <_io.BytesIO object at 0x000002CFC8BFFB50>\n",
      "\u001b[1m1602/6358\u001b[0m \u001b[32m━━━━━\u001b[0m\u001b[37m━━━━━━━━━━━━━━━\u001b[0m \u001b[1m1:00:31\u001b[0m 764ms/step - accuracy: 0.7767 - loss: 0.5598[Warning] Skipping a corrupted batch: cannot identify image file <_io.BytesIO object at 0x000002CFC8BFFB00>\n",
      "\u001b[1m1610/6358\u001b[0m \u001b[32m━━━━━\u001b[0m\u001b[37m━━━━━━━━━━━━━━━\u001b[0m \u001b[1m1:00:17\u001b[0m 762ms/step - accuracy: 0.7769 - loss: 0.5593[Warning] Skipping a corrupted batch: cannot identify image file <_io.BytesIO object at 0x000002CFC8BFFC90>\n",
      "\u001b[1m2160/6358\u001b[0m \u001b[32m━━━━━━\u001b[0m\u001b[37m━━━━━━━━━━━━━━\u001b[0m \u001b[1m46:59\u001b[0m 672ms/step - accuracy: 0.7852 - loss: 0.5322[Warning] Skipping a corrupted batch: cannot identify image file <_io.BytesIO object at 0x000002CFC8BFFC90>\n",
      "\u001b[1m2339/6358\u001b[0m \u001b[32m━━━━━━━\u001b[0m\u001b[37m━━━━━━━━━━━━━\u001b[0m \u001b[1m43:46\u001b[0m 654ms/step - accuracy: 0.7873 - loss: 0.5254[Warning] Skipping a corrupted batch: cannot identify image file <_io.BytesIO object at 0x000002CFC8BFFB00>\n",
      "\u001b[1m2537/6358\u001b[0m \u001b[32m━━━━━━━\u001b[0m\u001b[37m━━━━━━━━━━━━━\u001b[0m \u001b[1m40:21\u001b[0m 634ms/step - accuracy: 0.7894 - loss: 0.5187[Warning] Skipping a corrupted batch: cannot identify image file <_io.BytesIO object at 0x000002CFC8BFEC50>\n",
      "\u001b[1m2751/6358\u001b[0m \u001b[32m━━━━━━━━\u001b[0m\u001b[37m━━━━━━━━━━━━\u001b[0m \u001b[1m37:01\u001b[0m 616ms/step - accuracy: 0.7914 - loss: 0.5123[Warning] Skipping a corrupted batch: cannot identify image file <_io.BytesIO object at 0x000002CFC8BFE9D0>\n",
      "\u001b[1m2773/6358\u001b[0m \u001b[32m━━━━━━━━\u001b[0m\u001b[37m━━━━━━━━━━━━\u001b[0m \u001b[1m36:40\u001b[0m 614ms/step - accuracy: 0.7916 - loss: 0.5117[Warning] Skipping a corrupted batch: cannot identify image file <_io.BytesIO object at 0x000002CFC8BFEB10>\n",
      "\u001b[1m3223/6358\u001b[0m \u001b[32m━━━━━━━━━━\u001b[0m\u001b[37m━━━━━━━━━━\u001b[0m \u001b[1m30:48\u001b[0m 590ms/step - accuracy: 0.7952 - loss: 0.5003[Warning] Skipping a corrupted batch: cannot identify image file <_io.BytesIO object at 0x000002CFC8BFFB50>\n",
      "\u001b[1m3457/6358\u001b[0m \u001b[32m━━━━━━━━━━\u001b[0m\u001b[37m━━━━━━━━━━\u001b[0m \u001b[1m27:57\u001b[0m 578ms/step - accuracy: 0.7969 - loss: 0.4952[Warning] Skipping a corrupted batch: cannot identify image file <_io.BytesIO object at 0x000002CFC8BFFBF0>\n",
      "\u001b[1m3509/6358\u001b[0m \u001b[32m━━━━━━━━━━━\u001b[0m\u001b[37m━━━━━━━━━\u001b[0m \u001b[1m27:19\u001b[0m 576ms/step - accuracy: 0.7972 - loss: 0.4941[Warning] Skipping a corrupted batch: cannot identify image file <_io.BytesIO object at 0x000002CFC8BFFB50>\n",
      "\u001b[1m3535/6358\u001b[0m \u001b[32m━━━━━━━━━━━\u001b[0m\u001b[37m━━━━━━━━━\u001b[0m \u001b[1m27:01\u001b[0m 574ms/step - accuracy: 0.7974 - loss: 0.4936[Warning] Skipping a corrupted batch: cannot identify image file <_io.BytesIO object at 0x000002CFC8BFFB50>\n",
      "\u001b[1m3898/6358\u001b[0m \u001b[32m━━━━━━━━━━━━\u001b[0m\u001b[37m━━━━━━━━\u001b[0m \u001b[1m22:55\u001b[0m 559ms/step - accuracy: 0.7996 - loss: 0.4869[Warning] Skipping a corrupted batch: cannot identify image file <_io.BytesIO object at 0x000002CFC8BFEC50>\n",
      "\u001b[1m3902/6358\u001b[0m \u001b[32m━━━━━━━━━━━━\u001b[0m\u001b[37m━━━━━━━━\u001b[0m \u001b[1m22:52\u001b[0m 559ms/step - accuracy: 0.7996 - loss: 0.4868[Warning] Skipping a corrupted batch: cannot identify image file <_io.BytesIO object at 0x000002CFC8BFEC00>\n",
      "\u001b[1m4190/6358\u001b[0m \u001b[32m━━━━━━━━━━━━━\u001b[0m\u001b[37m━━━━━━━\u001b[0m \u001b[1m20:11\u001b[0m 559ms/step - accuracy: 0.8012 - loss: 0.4820[Warning] Skipping a corrupted batch: cannot identify image file <_io.BytesIO object at 0x000002CFC8BFFC40>\n",
      "\u001b[1m4526/6358\u001b[0m \u001b[32m━━━━━━━━━━━━━━\u001b[0m\u001b[37m━━━━━━\u001b[0m \u001b[1m16:55\u001b[0m 554ms/step - accuracy: 0.8028 - loss: 0.4771[Warning] Skipping a corrupted batch: cannot identify image file <_io.BytesIO object at 0x000002CFC8BFFCE0>\n",
      "\u001b[1m4606/6358\u001b[0m \u001b[32m━━━━━━━━━━━━━━\u001b[0m\u001b[37m━━━━━━\u001b[0m \u001b[1m16:07\u001b[0m 552ms/step - accuracy: 0.8032 - loss: 0.4760[Warning] Skipping a corrupted batch: cannot identify image file <_io.BytesIO object at 0x000002CFC8BFFE20>\n",
      "\u001b[1m5408/6358\u001b[0m \u001b[32m━━━━━━━━━━━━━━━━━\u001b[0m\u001b[37m━━━\u001b[0m \u001b[1m8:25\u001b[0m 532ms/step - accuracy: 0.8065 - loss: 0.4663[Warning] Skipping a corrupted batch: cannot identify image file <_io.BytesIO object at 0x000002CFC8BFFBA0>\n",
      "\u001b[1m6358/6358\u001b[0m \u001b[32m━━━━━━━━━━━━━━━━━━━━\u001b[0m\u001b[37m\u001b[0m \u001b[1m0s\u001b[0m 527ms/step - accuracy: 0.8096 - loss: 0.4573[Warning] Skipping a corrupted batch: cannot identify image file <_io.BytesIO object at 0x000002CFC8C20540>\n",
      "[Warning] Skipping a corrupted batch: cannot identify image file <_io.BytesIO object at 0x000002CFC8C20590>\n",
      "[Warning] Skipping a corrupted batch: cannot identify image file <_io.BytesIO object at 0x000002CFC8C284F0>\n",
      "\u001b[1m6358/6358\u001b[0m \u001b[32m━━━━━━━━━━━━━━━━━━━━\u001b[0m\u001b[37m\u001b[0m \u001b[1m3697s\u001b[0m 579ms/step - accuracy: 0.8096 - loss: 0.4572 - val_accuracy: 0.8180 - val_loss: 0.4112\n",
      "Epoch 2/3\n",
      "\u001b[1m 105/6358\u001b[0m \u001b[37m━━━━━━━━━━━━━━━━━━━━\u001b[0m \u001b[1m53:51\u001b[0m 517ms/step - accuracy: 0.8508 - loss: 0.3496[Warning] Skipping a corrupted batch: cannot identify image file <_io.BytesIO object at 0x000002CFC8C20590>\n",
      "\u001b[1m 412/6358\u001b[0m \u001b[32m━\u001b[0m\u001b[37m━━━━━━━━━━━━━━━━━━━\u001b[0m \u001b[1m52:55\u001b[0m 534ms/step - accuracy: 0.8432 - loss: 0.3617[Warning] Skipping a corrupted batch: cannot identify image file <_io.BytesIO object at 0x000002CFC8C0B240>\n",
      "\u001b[1m 484/6358\u001b[0m \u001b[32m━\u001b[0m\u001b[37m━━━━━━━━━━━━━━━━━━━\u001b[0m \u001b[1m52:31\u001b[0m 537ms/step - accuracy: 0.8427 - loss: 0.3628[Warning] Skipping a corrupted batch: cannot identify image file <_io.BytesIO object at 0x000002CFC8C0BBA0>\n",
      "\u001b[1m 698/6358\u001b[0m \u001b[32m━━\u001b[0m\u001b[37m━━━━━━━━━━━━━━━━━━\u001b[0m \u001b[1m50:14\u001b[0m 533ms/step - accuracy: 0.8414 - loss: 0.3657[Warning] Skipping a corrupted batch: cannot identify image file <_io.BytesIO object at 0x000002CFC8C20540>\n",
      "\u001b[1m 734/6358\u001b[0m \u001b[32m━━\u001b[0m\u001b[37m━━━━━━━━━━━━━━━━━━\u001b[0m \u001b[1m49:55\u001b[0m 533ms/step - accuracy: 0.8412 - loss: 0.3660[Warning] Skipping a corrupted batch: cannot identify image file <_io.BytesIO object at 0x000002CFC8C20590>\n",
      "\u001b[1m 816/6358\u001b[0m \u001b[32m━━\u001b[0m\u001b[37m━━━━━━━━━━━━━━━━━━\u001b[0m \u001b[1m51:33\u001b[0m 558ms/step - accuracy: 0.8410 - loss: 0.3666[Warning] Skipping a corrupted batch: cannot identify image file <_io.BytesIO object at 0x000002CFC8C28770>\n",
      "\u001b[1m2562/6358\u001b[0m \u001b[32m━━━━━━━━\u001b[0m\u001b[37m━━━━━━━━━━━━\u001b[0m \u001b[1m39:27\u001b[0m 624ms/step - accuracy: 0.8407 - loss: 0.3699[Warning] Skipping a corrupted batch: cannot identify image file <_io.BytesIO object at 0x000002CFC8BFEB10>\n",
      "\u001b[1m2998/6358\u001b[0m \u001b[32m━━━━━━━━━\u001b[0m\u001b[37m━━━━━━━━━━━\u001b[0m \u001b[1m35:04\u001b[0m 626ms/step - accuracy: 0.8408 - loss: 0.3699[Warning] Skipping a corrupted batch: cannot identify image file <_io.BytesIO object at 0x000002CFC8BFFA60>\n",
      "\u001b[1m3209/6358\u001b[0m \u001b[32m━━━━━━━━━━\u001b[0m\u001b[37m━━━━━━━━━━\u001b[0m \u001b[1m33:04\u001b[0m 630ms/step - accuracy: 0.8408 - loss: 0.3698[Warning] Skipping a corrupted batch: cannot identify image file <_io.BytesIO object at 0x000002CFC8C20590>\n",
      "\u001b[1m3579/6358\u001b[0m \u001b[32m━━━━━━━━━━━\u001b[0m\u001b[37m━━━━━━━━━\u001b[0m \u001b[1m29:44\u001b[0m 642ms/step - accuracy: 0.8409 - loss: 0.3697[Warning] Skipping a corrupted batch: cannot identify image file <_io.BytesIO object at 0x000002CFC8C0BBA0>\n",
      "\u001b[1m3627/6358\u001b[0m \u001b[32m━━━━━━━━━━━\u001b[0m\u001b[37m━━━━━━━━━\u001b[0m \u001b[1m29:15\u001b[0m 643ms/step - accuracy: 0.8409 - loss: 0.3696[Warning] Skipping a corrupted batch: cannot identify image file <_io.BytesIO object at 0x000002CFC8BFFAB0>\n",
      "\u001b[1m3682/6358\u001b[0m \u001b[32m━━━━━━━━━━━\u001b[0m\u001b[37m━━━━━━━━━\u001b[0m \u001b[1m28:41\u001b[0m 643ms/step - accuracy: 0.8410 - loss: 0.3696[Warning] Skipping a corrupted batch: cannot identify image file <_io.BytesIO object at 0x000002CFC8BFEB60>\n",
      "\u001b[1m3683/6358\u001b[0m \u001b[32m━━━━━━━━━━━\u001b[0m\u001b[37m━━━━━━━━━\u001b[0m \u001b[1m28:41\u001b[0m 643ms/step - accuracy: 0.8410 - loss: 0.3696[Warning] Skipping a corrupted batch: cannot identify image file <_io.BytesIO object at 0x000002CFC8BFFA60>\n",
      "\u001b[1m3843/6358\u001b[0m \u001b[32m━━━━━━━━━━━━\u001b[0m\u001b[37m━━━━━━━━\u001b[0m \u001b[1m27:01\u001b[0m 645ms/step - accuracy: 0.8410 - loss: 0.3695[Warning] Skipping a corrupted batch: cannot identify image file <_io.BytesIO object at 0x000002CFC8BFFCE0>\n",
      "\u001b[1m3898/6358\u001b[0m \u001b[32m━━━━━━━━━━━━\u001b[0m\u001b[37m━━━━━━━━\u001b[0m \u001b[1m26:27\u001b[0m 645ms/step - accuracy: 0.8410 - loss: 0.3694[Warning] Skipping a corrupted batch: cannot identify image file <_io.BytesIO object at 0x000002CFC8BFFAB0>\n",
      "\u001b[1m3973/6358\u001b[0m \u001b[32m━━━━━━━━━━━━\u001b[0m\u001b[37m━━━━━━━━\u001b[0m \u001b[1m25:42\u001b[0m 647ms/step - accuracy: 0.8411 - loss: 0.3694[Warning] Skipping a corrupted batch: cannot identify image file <_io.BytesIO object at 0x000002CFC8BFFAB0>\n",
      "\u001b[1m3998/6358\u001b[0m \u001b[32m━━━━━━━━━━━━\u001b[0m\u001b[37m━━━━━━━━\u001b[0m \u001b[1m25:27\u001b[0m 647ms/step - accuracy: 0.8411 - loss: 0.3694[Warning] Skipping a corrupted batch: cannot identify image file <_io.BytesIO object at 0x000002CFC8BFFAB0>\n",
      "\u001b[1m4150/6358\u001b[0m \u001b[32m━━━━━━━━━━━━━\u001b[0m\u001b[37m━━━━━━━\u001b[0m \u001b[1m23:54\u001b[0m 650ms/step - accuracy: 0.8411 - loss: 0.3693[Warning] Skipping a corrupted batch: cannot identify image file <_io.BytesIO object at 0x000002CFC8BFEB60>\n",
      "\u001b[1m4299/6358\u001b[0m \u001b[32m━━━━━━━━━━━━━\u001b[0m\u001b[37m━━━━━━━\u001b[0m \u001b[1m22:22\u001b[0m 652ms/step - accuracy: 0.8412 - loss: 0.3692[Warning] Skipping a corrupted batch: cannot identify image file <_io.BytesIO object at 0x000002CFC8BFFA60>\n",
      "\u001b[1m4493/6358\u001b[0m \u001b[32m━━━━━━━━━━━━━━\u001b[0m\u001b[37m━━━━━━\u001b[0m \u001b[1m20:15\u001b[0m 652ms/step - accuracy: 0.8413 - loss: 0.3690[Warning] Skipping a corrupted batch: cannot identify image file <_io.BytesIO object at 0x000002CFC8C20590>\n",
      "\u001b[1m5109/6358\u001b[0m \u001b[32m━━━━━━━━━━━━━━━━\u001b[0m\u001b[37m━━━━\u001b[0m \u001b[1m13:27\u001b[0m 647ms/step - accuracy: 0.8416 - loss: 0.3684[Warning] Skipping a corrupted batch: cannot identify image file <_io.BytesIO object at 0x000002CFC8BFEB10>\n",
      "\u001b[1m5124/6358\u001b[0m \u001b[32m━━━━━━━━━━━━━━━━\u001b[0m\u001b[37m━━━━\u001b[0m \u001b[1m13:17\u001b[0m 647ms/step - accuracy: 0.8416 - loss: 0.3683[Warning] Skipping a corrupted batch: cannot identify image file <_io.BytesIO object at 0x000002CFC8BFFA60>\n",
      "\u001b[1m5953/6358\u001b[0m \u001b[32m━━━━━━━━━━━━━━━━━━\u001b[0m\u001b[37m━━\u001b[0m \u001b[1m4:21\u001b[0m 645ms/step - accuracy: 0.8422 - loss: 0.3674[Warning] Skipping a corrupted batch: cannot identify image file <_io.BytesIO object at 0x000002CFC8C0B240>\n",
      "\u001b[1m5992/6358\u001b[0m \u001b[32m━━━━━━━━━━━━━━━━━━\u001b[0m\u001b[37m━━\u001b[0m \u001b[1m3:56\u001b[0m 645ms/step - accuracy: 0.8422 - loss: 0.3674[Warning] Skipping a corrupted batch: cannot identify image file <_io.BytesIO object at 0x000002CFC8BFEB60>\n",
      "\u001b[1m6151/6358\u001b[0m \u001b[32m━━━━━━━━━━━━━━━━━━━\u001b[0m\u001b[37m━\u001b[0m \u001b[1m2:13\u001b[0m 646ms/step - accuracy: 0.8423 - loss: 0.3672[Warning] Skipping a corrupted batch: cannot identify image file <_io.BytesIO object at 0x000002CFC8BFFAB0>\n",
      "\u001b[1m6189/6358\u001b[0m \u001b[32m━━━━━━━━━━━━━━━━━━━\u001b[0m\u001b[37m━\u001b[0m \u001b[1m1:49\u001b[0m 647ms/step - accuracy: 0.8423 - loss: 0.3672[Warning] Skipping a corrupted batch: cannot identify image file <_io.BytesIO object at 0x000002CFC8BFEB60>\n",
      "\u001b[1m6212/6358\u001b[0m \u001b[32m━━━━━━━━━━━━━━━━━━━\u001b[0m\u001b[37m━\u001b[0m \u001b[1m1:34\u001b[0m 651ms/step - accuracy: 0.8423 - loss: 0.3672[Warning] Skipping a corrupted batch: cannot identify image file <_io.BytesIO object at 0x000002CFC8C20590>\n",
      "\u001b[1m6281/6358\u001b[0m \u001b[32m━━━━━━━━━━━━━━━━━━━\u001b[0m\u001b[37m━\u001b[0m \u001b[1m50s\u001b[0m 651ms/step - accuracy: 0.8424 - loss: 0.3671[Warning] Skipping a corrupted batch: cannot identify image file <_io.BytesIO object at 0x000002CFC8BFEB10>\n",
      "\u001b[1m6287/6358\u001b[0m \u001b[32m━━━━━━━━━━━━━━━━━━━\u001b[0m\u001b[37m━\u001b[0m \u001b[1m46s\u001b[0m 651ms/step - accuracy: 0.8424 - loss: 0.3671[Warning] Skipping a corrupted batch: cannot identify image file <_io.BytesIO object at 0x000002CFC8BFFAB0>\n",
      "\u001b[1m6358/6358\u001b[0m \u001b[32m━━━━━━━━━━━━━━━━━━━━\u001b[0m\u001b[37m\u001b[0m \u001b[1m0s\u001b[0m 649ms/step - accuracy: 0.8424 - loss: 0.3670[Warning] Skipping a corrupted batch: cannot identify image file <_io.BytesIO object at 0x000002CFC8BFEB10>\n",
      "[Warning] Skipping a corrupted batch: cannot identify image file <_io.BytesIO object at 0x000002CFC8C2B330>\n",
      "[Warning] Skipping a corrupted batch: cannot identify image file <_io.BytesIO object at 0x000002CFC8C2A3E0>\n",
      "\u001b[1m6358/6358\u001b[0m \u001b[32m━━━━━━━━━━━━━━━━━━━━\u001b[0m\u001b[37m\u001b[0m \u001b[1m4499s\u001b[0m 708ms/step - accuracy: 0.8424 - loss: 0.3670 - val_accuracy: 0.8468 - val_loss: 0.4098\n",
      "Epoch 3/3\n",
      "\u001b[1m 134/6358\u001b[0m \u001b[37m━━━━━━━━━━━━━━━━━━━━\u001b[0m \u001b[1m50:15\u001b[0m 484ms/step - accuracy: 0.8491 - loss: 0.3611[Warning] Skipping a corrupted batch: cannot identify image file <_io.BytesIO object at 0x000002CFC8BFEB10>\n",
      "\u001b[1m 157/6358\u001b[0m \u001b[37m━━━━━━━━━━━━━━━━━━━━\u001b[0m \u001b[1m49:50\u001b[0m 482ms/step - accuracy: 0.8499 - loss: 0.3602[Warning] Skipping a corrupted batch: cannot identify image file <_io.BytesIO object at 0x000002CFC8BFFCE0>\n",
      "\u001b[1m 173/6358\u001b[0m \u001b[37m━━━━━━━━━━━━━━━━━━━━\u001b[0m \u001b[1m49:46\u001b[0m 483ms/step - accuracy: 0.8503 - loss: 0.3595[Warning] Skipping a corrupted batch: cannot identify image file <_io.BytesIO object at 0x000002CFC8BFFAB0>\n",
      "\u001b[1m 428/6358\u001b[0m \u001b[32m━\u001b[0m\u001b[37m━━━━━━━━━━━━━━━━━━━\u001b[0m \u001b[1m50:05\u001b[0m 507ms/step - accuracy: 0.8512 - loss: 0.3580[Warning] Skipping a corrupted batch: cannot identify image file <_io.BytesIO object at 0x000002CFC8BFEB60>\n",
      "\u001b[1m 752/6358\u001b[0m \u001b[32m━━\u001b[0m\u001b[37m━━━━━━━━━━━━━━━━━━\u001b[0m \u001b[1m45:22\u001b[0m 486ms/step - accuracy: 0.8514 - loss: 0.3580[Warning] Skipping a corrupted batch: cannot identify image file <_io.BytesIO object at 0x000002CFC8BFEB60>\n",
      "\u001b[1m 998/6358\u001b[0m \u001b[32m━━━\u001b[0m\u001b[37m━━━━━━━━━━━━━━━━━\u001b[0m \u001b[1m43:11\u001b[0m 483ms/step - accuracy: 0.8516 - loss: 0.3573[Warning] Skipping a corrupted batch: cannot identify image file <_io.BytesIO object at 0x000002CFC8BFEB10>\n",
      "\u001b[1m1303/6358\u001b[0m \u001b[32m━━━━\u001b[0m\u001b[37m━━━━━━━━━━━━━━━━\u001b[0m \u001b[1m39:29\u001b[0m 469ms/step - accuracy: 0.8520 - loss: 0.3560[Warning] Skipping a corrupted batch: cannot identify image file <_io.BytesIO object at 0x000002CFC8BFFCE0>\n",
      "\u001b[1m1311/6358\u001b[0m \u001b[32m━━━━\u001b[0m\u001b[37m━━━━━━━━━━━━━━━━\u001b[0m \u001b[1m39:27\u001b[0m 469ms/step - accuracy: 0.8520 - loss: 0.3560[Warning] Skipping a corrupted batch: cannot identify image file <_io.BytesIO object at 0x000002CFC8BFEB60>\n",
      "\u001b[1m1973/6358\u001b[0m \u001b[32m━━━━━━\u001b[0m\u001b[37m━━━━━━━━━━━━━━\u001b[0m \u001b[1m33:05\u001b[0m 453ms/step - accuracy: 0.8524 - loss: 0.3543[Warning] Skipping a corrupted batch: cannot identify image file <_io.BytesIO object at 0x000002CFC8BFFCE0>\n",
      "\u001b[1m2048/6358\u001b[0m \u001b[32m━━━━━━\u001b[0m\u001b[37m━━━━━━━━━━━━━━\u001b[0m \u001b[1m32:25\u001b[0m 451ms/step - accuracy: 0.8524 - loss: 0.3542[Warning] Skipping a corrupted batch: cannot identify image file <_io.BytesIO object at 0x000002CFC8C0B240>\n",
      "\u001b[1m2183/6358\u001b[0m \u001b[32m━━━━━━\u001b[0m\u001b[37m━━━━━━━━━━━━━━\u001b[0m \u001b[1m31:11\u001b[0m 448ms/step - accuracy: 0.8524 - loss: 0.3540[Warning] Skipping a corrupted batch: cannot identify image file <_io.BytesIO object at 0x000002CFC8BFFAB0>\n",
      "\u001b[1m2507/6358\u001b[0m \u001b[32m━━━━━━━\u001b[0m\u001b[37m━━━━━━━━━━━━━\u001b[0m \u001b[1m28:35\u001b[0m 445ms/step - accuracy: 0.8525 - loss: 0.3536[Warning] Skipping a corrupted batch: cannot identify image file <_io.BytesIO object at 0x000002CFC8BFFAB0>\n",
      "\u001b[1m2640/6358\u001b[0m \u001b[32m━━━━━━━━\u001b[0m\u001b[37m━━━━━━━━━━━━\u001b[0m \u001b[1m27:35\u001b[0m 445ms/step - accuracy: 0.8525 - loss: 0.3534[Warning] Skipping a corrupted batch: cannot identify image file <_io.BytesIO object at 0x000002CFC8BFEB60>\n",
      "\u001b[1m2668/6358\u001b[0m \u001b[32m━━━━━━━━\u001b[0m\u001b[37m━━━━━━━━━━━━\u001b[0m \u001b[1m27:23\u001b[0m 445ms/step - accuracy: 0.8525 - loss: 0.3534[Warning] Skipping a corrupted batch: cannot identify image file <_io.BytesIO object at 0x000002CFC8C0BBA0>\n",
      "\u001b[1m2790/6358\u001b[0m \u001b[32m━━━━━━━━\u001b[0m\u001b[37m━━━━━━━━━━━━\u001b[0m \u001b[1m26:27\u001b[0m 445ms/step - accuracy: 0.8526 - loss: 0.3533[Warning] Skipping a corrupted batch: cannot identify image file <_io.BytesIO object at 0x000002CFC8C0B240>\n",
      "\u001b[1m3079/6358\u001b[0m \u001b[32m━━━━━━━━━\u001b[0m\u001b[37m━━━━━━━━━━━\u001b[0m \u001b[1m24:33\u001b[0m 449ms/step - accuracy: 0.8526 - loss: 0.3530[Warning] Skipping a corrupted batch: cannot identify image file <_io.BytesIO object at 0x000002CFC8C2B330>\n",
      "\u001b[1m3350/6358\u001b[0m \u001b[32m━━━━━━━━━━\u001b[0m\u001b[37m━━━━━━━━━━\u001b[0m \u001b[1m22:25\u001b[0m 447ms/step - accuracy: 0.8527 - loss: 0.3527[Warning] Skipping a corrupted batch: cannot identify image file <_io.BytesIO object at 0x000002CFC8BFEB60>\n",
      "\u001b[1m3949/6358\u001b[0m \u001b[32m━━━━━━━━━━━━\u001b[0m\u001b[37m━━━━━━━━\u001b[0m \u001b[1m17:57\u001b[0m 447ms/step - accuracy: 0.8528 - loss: 0.3522[Warning] Skipping a corrupted batch: cannot identify image file <_io.BytesIO object at 0x000002CFC8BFEAC0>\n",
      "\u001b[1m4442/6358\u001b[0m \u001b[32m━━━━━━━━━━━━━\u001b[0m\u001b[37m━━━━━━━\u001b[0m \u001b[1m14:15\u001b[0m 446ms/step - accuracy: 0.8530 - loss: 0.3518[Warning] Skipping a corrupted batch: cannot identify image file <_io.BytesIO object at 0x000002CFC8BFEB60>\n",
      "\u001b[1m4780/6358\u001b[0m \u001b[32m━━━━━━━━━━━━━━━\u001b[0m\u001b[37m━━━━━\u001b[0m \u001b[1m11:44\u001b[0m 447ms/step - accuracy: 0.8531 - loss: 0.3515[Warning] Skipping a corrupted batch: cannot identify image file <_io.BytesIO object at 0x000002CFC8C0BBA0>\n",
      "\u001b[1m5203/6358\u001b[0m \u001b[32m━━━━━━━━━━━━━━━━\u001b[0m\u001b[37m━━━━\u001b[0m \u001b[1m8:38\u001b[0m 449ms/step - accuracy: 0.8532 - loss: 0.3511[Warning] Skipping a corrupted batch: cannot identify image file <_io.BytesIO object at 0x000002CFC8BFFCE0>\n",
      "\u001b[1m5412/6358\u001b[0m \u001b[32m━━━━━━━━━━━━━━━━━\u001b[0m\u001b[37m━━━\u001b[0m \u001b[1m7:04\u001b[0m 449ms/step - accuracy: 0.8533 - loss: 0.3509[Warning] Skipping a corrupted batch: cannot identify image file <_io.BytesIO object at 0x000002CFC8C0B240>\n",
      "\u001b[1m5480/6358\u001b[0m \u001b[32m━━━━━━━━━━━━━━━━━\u001b[0m\u001b[37m━━━\u001b[0m \u001b[1m6:34\u001b[0m 449ms/step - accuracy: 0.8533 - loss: 0.3509[Warning] Skipping a corrupted batch: cannot identify image file <_io.BytesIO object at 0x000002CFC8BFEAC0>\n",
      "\u001b[1m5586/6358\u001b[0m \u001b[32m━━━━━━━━━━━━━━━━━\u001b[0m\u001b[37m━━━\u001b[0m \u001b[1m5:46\u001b[0m 449ms/step - accuracy: 0.8533 - loss: 0.3508[Warning] Skipping a corrupted batch: cannot identify image file <_io.BytesIO object at 0x000002CFC8BFFAB0>\n",
      "\u001b[1m5632/6358\u001b[0m \u001b[32m━━━━━━━━━━━━━━━━━\u001b[0m\u001b[37m━━━\u001b[0m \u001b[1m5:25\u001b[0m 449ms/step - accuracy: 0.8533 - loss: 0.3508[Warning] Skipping a corrupted batch: cannot identify image file <_io.BytesIO object at 0x000002CFC8C28900>\n",
      "\u001b[1m5993/6358\u001b[0m \u001b[32m━━━━━━━━━━━━━━━━━━\u001b[0m\u001b[37m━━\u001b[0m \u001b[1m2:43\u001b[0m 449ms/step - accuracy: 0.8534 - loss: 0.3504[Warning] Skipping a corrupted batch: cannot identify image file <_io.BytesIO object at 0x000002CFC8C2B010>\n",
      "\u001b[1m6058/6358\u001b[0m \u001b[32m━━━━━━━━━━━━━━━━━━━\u001b[0m\u001b[37m━\u001b[0m \u001b[1m2:14\u001b[0m 449ms/step - accuracy: 0.8535 - loss: 0.3504[Warning] Skipping a corrupted batch: cannot identify image file <_io.BytesIO object at 0x000002CFC8C0BBA0>\n",
      "\u001b[1m6115/6358\u001b[0m \u001b[32m━━━━━━━━━━━━━━━━━━━\u001b[0m\u001b[37m━\u001b[0m \u001b[1m1:49\u001b[0m 449ms/step - accuracy: 0.8535 - loss: 0.3503[Warning] Skipping a corrupted batch: cannot identify image file <_io.BytesIO object at 0x000002CFC8C0B240>\n",
      "\u001b[1m6219/6358\u001b[0m \u001b[32m━━━━━━━━━━━━━━━━━━━\u001b[0m\u001b[37m━\u001b[0m \u001b[1m1:02\u001b[0m 451ms/step - accuracy: 0.8535 - loss: 0.3503[Warning] Skipping a corrupted batch: cannot identify image file <_io.BytesIO object at 0x000002CFC8C2B010>\n",
      "\u001b[1m6358/6358\u001b[0m \u001b[32m━━━━━━━━━━━━━━━━━━━━\u001b[0m\u001b[37m\u001b[0m \u001b[1m0s\u001b[0m 450ms/step - accuracy: 0.8535 - loss: 0.3501[Warning] Skipping a corrupted batch: cannot identify image file <_io.BytesIO object at 0x000002CFC8C0BBA0>\n",
      "[Warning] Skipping a corrupted batch: cannot identify image file <_io.BytesIO object at 0x000002CFC8C0BBA0>\n",
      "[Warning] Skipping a corrupted batch: cannot identify image file <_io.BytesIO object at 0x000002CFC8C2A700>\n",
      "\u001b[1m6358/6358\u001b[0m \u001b[32m━━━━━━━━━━━━━━━━━━━━\u001b[0m\u001b[37m\u001b[0m \u001b[1m3258s\u001b[0m 513ms/step - accuracy: 0.8535 - loss: 0.3501 - val_accuracy: 0.8573 - val_loss: 0.3489\n"
     ]
    }
   ],
   "source": [
    "# Calculate steps per epoch manually\n",
    "steps_per_epoch = trainGen.samples // trainGen.batch_size\n",
    "validation_steps = valGen.samples // valGen.batch_size\n",
    "\n",
    "# Train the model using the safe generators\n",
    "M = model.fit(\n",
    "    x=safe_trainGen,\n",
    "    steps_per_epoch=steps_per_epoch,\n",
    "    validation_data=safe_valGen,\n",
    "    validation_steps=validation_steps,\n",
    "    epochs=3\n",
    ")\n"
   ]
  },
  {
   "cell_type": "markdown",
   "id": "79adab03",
   "metadata": {},
   "source": [
    "Testing and preparing Confusion Matrix"
   ]
  },
  {
   "cell_type": "code",
   "execution_count": null,
   "id": "a5dedb15-ed7d-4729-af0d-a926b3b6691b",
   "metadata": {},
   "outputs": [
    {
     "name": "stdout",
     "output_type": "stream",
     "text": [
      "Now evaluating the model...\n",
      "\u001b[1m 156/1828\u001b[0m \u001b[32m━\u001b[0m\u001b[37m━━━━━━━━━━━━━━━━━━━\u001b[0m \u001b[1m21:10\u001b[0m 760ms/step[Warning] Skipping a corrupted batch: cannot identify image file <_io.BytesIO object at 0x000002CFC57D49F0>\n",
      "\u001b[1m1359/1828\u001b[0m \u001b[32m━━━━━━━━━━━━━━\u001b[0m\u001b[37m━━━━━━\u001b[0m \u001b[1m5:45\u001b[0m 738ms/step[Warning] Skipping a corrupted batch: cannot identify image file <_io.BytesIO object at 0x000002CFC586D710>\n",
      "\u001b[1m1360/1828\u001b[0m \u001b[32m━━━━━━━━━━━━━━\u001b[0m\u001b[37m━━━━━━\u001b[0m \u001b[1m5:45\u001b[0m 738ms/step[Warning] Skipping a corrupted batch: cannot identify image file <_io.BytesIO object at 0x000002CFC586E1B0>\n",
      "\u001b[1m1828/1828\u001b[0m \u001b[32m━━━━━━━━━━━━━━━━━━━━\u001b[0m\u001b[37m\u001b[0m \u001b[1m1352s\u001b[0m 740ms/step\n",
      "Predictions shape: (58484,)\n",
      "Ground truth shape: (58484,)\n",
      "\n",
      "Classification Report:\n",
      "              precision    recall  f1-score   support\n",
      "\n",
      "           0       0.88      0.93      0.90     42060\n",
      "           1       0.79      0.67      0.73     16424\n",
      "\n",
      "    accuracy                           0.86     58484\n",
      "   macro avg       0.83      0.80      0.81     58484\n",
      "weighted avg       0.85      0.86      0.85     58484\n",
      "\n",
      "\n",
      "Confusion Matrix:\n",
      "[[39163  2897]\n",
      " [ 5433 10991]]\n",
      "\n",
      "Accuracy: 0.8576\n",
      "Specificity: 0.6692\n",
      "Sensitivity: 0.9311\n"
     ]
    }
   ],
   "source": [
    "print(\"Now evaluating the model...\")\n",
    "\n",
    "# Reset the test generator\n",
    "testGen.reset()\n",
    "\n",
    "# Predict using the safe test generator\n",
    "pred_indices = model.predict(\n",
    "    safe_testGen,\n",
    "    steps=(lenTest // BS) + 1\n",
    ")\n",
    "\n",
    "# Convert predictions to class labels\n",
    "pred_indices = np.argmax(pred_indices, axis=1)\n",
    "\n",
    "# Check lengths\n",
    "print(\"Predictions shape:\", pred_indices.shape)\n",
    "print(\"Ground truth shape:\", testGen.classes.shape)\n",
    "\n",
    "# Trim to the same length\n",
    "min_len = min(len(pred_indices), len(testGen.classes))\n",
    "pred_indices = pred_indices[:min_len]\n",
    "true_classes = testGen.classes[:min_len]\n",
    "\n",
    "# Classification report\n",
    "print(\"\\nClassification Report:\")\n",
    "print(classification_report(\n",
    "    true_classes,\n",
    "    pred_indices,\n",
    "    target_names=list(testGen.class_indices.keys())\n",
    "))\n",
    "\n",
    "# Confusion matrix\n",
    "cm = confusion_matrix(true_classes, pred_indices)\n",
    "print(\"\\nConfusion Matrix:\")\n",
    "print(cm)\n",
    "\n",
    "# Compute metrics\n",
    "total = sum(sum(cm))\n",
    "accuracy = (cm[0,0] + cm[1,1]) / total\n",
    "specificity = cm[1,1] / (cm[1,0] + cm[1,1])\n",
    "sensitivity = cm[0,0] / (cm[0,0] + cm[0,1])\n",
    "\n",
    "print(f\"\\nAccuracy: {accuracy:.4f}\")\n",
    "print(f\"Specificity: {specificity:.4f}\")\n",
    "print(f\"Sensitivity: {sensitivity:.4f}\")"
   ]
  },
  {
   "cell_type": "markdown",
   "id": "2fc88b34",
   "metadata": {},
   "source": [
    "Plotting a graph"
   ]
  },
  {
   "cell_type": "code",
   "execution_count": 36,
   "id": "e53d40b7",
   "metadata": {},
   "outputs": [
    {
     "name": "stdout",
     "output_type": "stream",
     "text": [
      "\n",
      "Training plot saved as 'plot.png'\n"
     ]
    }
   ],
   "source": [
    "# Plot training history\n",
    "N = len(M.history[\"loss\"])   # Automatically detect number of epochs\n",
    "plt.style.use(\"ggplot\")\n",
    "plt.figure(figsize=(10, 6))\n",
    "\n",
    "plt.plot(np.arange(0, N), M.history[\"loss\"], label=\"train_loss\")\n",
    "plt.plot(np.arange(0, N), M.history[\"val_loss\"], label=\"val_loss\")\n",
    "plt.plot(np.arange(0, N), M.history[\"accuracy\"], label=\"train_acc\")\n",
    "plt.plot(np.arange(0, N), M.history[\"val_accuracy\"], label=\"val_acc\")\n",
    "\n",
    "plt.title(\"Training Loss and Accuracy on the IDC Dataset\")\n",
    "plt.xlabel(\"Epoch\")\n",
    "plt.ylabel(\"Loss/Accuracy\")\n",
    "plt.legend(loc=\"lower left\")\n",
    "plt.tight_layout()\n",
    "plt.savefig(\"plot.png\")\n",
    "print(\"\\nTraining plot saved as 'plot.png'\")\n"
   ]
  },
  {
   "cell_type": "code",
   "execution_count": null,
   "id": "0f93b038",
   "metadata": {},
   "outputs": [],
   "source": []
  }
 ],
 "metadata": {
  "kernelspec": {
   "display_name": "AI_and_ML",
   "language": "python",
   "name": "python3"
  },
  "language_info": {
   "codemirror_mode": {
    "name": "ipython",
    "version": 3
   },
   "file_extension": ".py",
   "mimetype": "text/x-python",
   "name": "python",
   "nbconvert_exporter": "python",
   "pygments_lexer": "ipython3",
   "version": "3.12.3"
  }
 },
 "nbformat": 4,
 "nbformat_minor": 5
}
